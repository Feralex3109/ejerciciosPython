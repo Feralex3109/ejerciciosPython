{
  "nbformat": 4,
  "nbformat_minor": 0,
  "metadata": {
    "colab": {
      "provenance": []
    },
    "kernelspec": {
      "name": "python3",
      "display_name": "Python 3"
    },
    "language_info": {
      "name": "python"
    }
  },
  "cells": [
    {
      "cell_type": "code",
      "source": [
        "# INTEGRANTE: Edwin Alexander Ospina Penna\n",
        "# CORREO INSTITUCIONAL: eospinap@estudiante.ibero.edu.co\n",
        "# IDBANNER: 100136699\n",
        "\n",
        "\n",
        "\n",
        "# Importamos la libreria random\n",
        "import random\n",
        "\n",
        "def adivina_el_numero():\n",
        "    # Generar un número aleatorio entre 1 y 100\n",
        "    numero_a_adivinar = random.randint(1, 100)\n",
        "    intentos_restantes = 10\n",
        "    intento_actual = 1\n",
        "\n",
        "    print(\"¡Bienvenido al juego de adivinar el número!\")\n",
        "    print(\"He generado un número entre 1 y 100.\")\n",
        "    print(\"Tienes 10 intentos para adivinarlo.\")\n",
        "\n",
        "    while intentos_restantes > 0:\n",
        "        # Solicitar al usuario que ingrese un número\n",
        "        try:\n",
        "            numero_usuario = int(input(f\"Intento {intento_actual}: Ingresa tu número (te quedan {intentos_restantes} intentos): \"))\n",
        "        except ValueError:\n",
        "            print(\"Por favor, ingresa un número entero.\")\n",
        "            continue\n",
        "\n",
        "        # Comparar el número ingresado con el número a adivinar\n",
        "        if numero_usuario < 1 or numero_usuario > 100:\n",
        "            print(\"El número debe estar entre 1 y 100. Intenta de nuevo.\")\n",
        "            continue\n",
        "\n",
        "        if numero_usuario < numero_a_adivinar:\n",
        "            print(\"El número a adivinar es mayor.\")\n",
        "        elif numero_usuario > numero_a_adivinar:\n",
        "            print(\"El número a adivinar es menor.\")\n",
        "        else:\n",
        "            print(f\"¡Felicidades! Adivinaste el número {numero_a_adivinar} en el intento {intento_actual}!\")\n",
        "            return\n",
        "\n",
        "        intentos_restantes -= 1\n",
        "        intento_actual += 1\n",
        "\n",
        "    # Si se acaban los intentos\n",
        "    print(f\"Lo siento, has agotado tus intentos. El número era {numero_a_adivinar}.\")\n",
        "\n",
        "# Llamar a la función para iniciar el juego\n",
        "adivina_el_numero()\n"
      ],
      "metadata": {
        "colab": {
          "base_uri": "https://localhost:8080/"
        },
        "id": "0PmMEX9P1ae8",
        "outputId": "9fd378d1-e965-4661-f4e3-a9723bcbe8d4"
      },
      "execution_count": null,
      "outputs": [
        {
          "output_type": "stream",
          "name": "stdout",
          "text": [
            "¡Bienvenido al juego de adivinar el número!\n",
            "He generado un número entre 1 y 100.\n",
            "Tienes 10 intentos para adivinarlo.\n",
            "Intento 1: Ingresa tu número (te quedan 10 intentos): 50\n",
            "El número a adivinar es mayor.\n",
            "Intento 2: Ingresa tu número (te quedan 9 intentos): 25\n",
            "El número a adivinar es mayor.\n",
            "Intento 3: Ingresa tu número (te quedan 8 intentos): 75\n",
            "El número a adivinar es menor.\n",
            "Intento 4: Ingresa tu número (te quedan 7 intentos): 10\n",
            "El número a adivinar es mayor.\n",
            "Intento 5: Ingresa tu número (te quedan 6 intentos): 90\n",
            "El número a adivinar es menor.\n",
            "Intento 6: Ingresa tu número (te quedan 5 intentos): 0\n",
            "El número debe estar entre 1 y 100. Intenta de nuevo.\n",
            "Intento 6: Ingresa tu número (te quedan 5 intentos): 100\n",
            "El número a adivinar es menor.\n",
            "Intento 7: Ingresa tu número (te quedan 4 intentos): 60\n",
            "¡Felicidades! Adivinaste el número 60 en el intento 7!\n"
          ]
        }
      ]
    }
  ]
}