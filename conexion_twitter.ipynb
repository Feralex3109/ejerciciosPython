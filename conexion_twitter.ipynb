{
  "nbformat": 4,
  "nbformat_minor": 0,
  "metadata": {
    "colab": {
      "provenance": []
    },
    "kernelspec": {
      "name": "python3",
      "display_name": "Python 3"
    },
    "language_info": {
      "name": "python"
    }
  },
  "cells": [
    {
      "cell_type": "code",
      "source": [
        "# INTEGRANTE: Edwin Alexander Ospina Penna\n",
        "# CORREO INSTITUCIONAL: eospinap@estudiante.ibero.edu.co\n",
        "# IDBANNER: 100136699\n",
        "\n",
        "\n",
        "\n",
        "# Importar la libreria tweepy\n",
        "import tweepy\n",
        "\n",
        "# Credenciales de la API de Twitter\n",
        "API_KEY = '123456789'\n",
        "API_SECRET_KEY = 'abcdef1234567890ghijklmnop'\n",
        "ACCESS_TOKEN = '123456789'\n",
        "ACCESS_TOKEN_SECRET = '1234567890abcdefg'\n",
        "\n",
        "# Autenticación con la API de Twitter\n",
        "try:\n",
        "    auth = tweepy.OAuth1UserHandler(API_KEY, API_SECRET_KEY, ACCESS_TOKEN, ACCESS_TOKEN_SECRET)\n",
        "    api = tweepy.API(auth)\n",
        "\n",
        "    # Verifica la autenticación\n",
        "    api.verify_credentials()\n",
        "    print(\"Autenticación exitosa\")\n",
        "except tweepy.errors.TweepyException as e:\n",
        "    print(f'Error de autenticación: {e}')\n",
        "except Exception as e:\n",
        "    print(f'Error inesperado en la autenticación: {e}')\n",
        "\n",
        "# Función para analizar los tweets\n",
        "def analizar_tweets(usuario):\n",
        "    try:\n",
        "        # Obtener los últimos 20 tweets del usuario\n",
        "        tweets = api.user_timeline(screen_name=usuario, count=20, tweet_mode='extended')\n",
        "\n",
        "        # Inicializar un contador para las palabras clave\n",
        "        contador_palabras_clave = {}\n",
        "\n",
        "        # Recorrer los tweets y analizar el contenido\n",
        "        for tweet in tweets:\n",
        "            print(f'Tweet: {tweet.full_text}')\n",
        "            palabras_clave = ['Python', 'data', 'Tweepy']  # Ejemplo de palabras clave\n",
        "            for palabra in palabras_clave:\n",
        "                if palabra.lower() in tweet.full_text.lower():\n",
        "                    if palabra in contador_palabras_clave:\n",
        "                        contador_palabras_clave[palabra] += 1\n",
        "                    else:\n",
        "                        contador_palabras_clave[palabra] = 1\n",
        "\n",
        "        # Mostrar resultados del análisis\n",
        "        print(\"\\nConteo de palabras clave:\")\n",
        "        for palabra, conteo in contador_palabras_clave.items():\n",
        "            print(f'{palabra}: {conteo}')\n",
        "\n",
        "    except tweepy.errors.TweepyException as e:  # Manejo de excepciones\n",
        "        print(f'Error de Tweepy: {e}')\n",
        "    except Exception as e:  # Manejo general de excepciones\n",
        "        print(f'Error inesperado: {e}')\n",
        "\n",
        "\n",
        "\n"
      ],
      "metadata": {
        "id": "0PmMEX9P1ae8",
        "colab": {
          "base_uri": "https://localhost:8080/"
        },
        "outputId": "24d9be95-d5ca-4518-ecbb-aedd07ad672e"
      },
      "execution_count": null,
      "outputs": [
        {
          "output_type": "stream",
          "name": "stdout",
          "text": [
            "Error de autenticación: 401 Unauthorized\n",
            "89 - Invalid or expired token.\n"
          ]
        }
      ]
    }
  ]
}