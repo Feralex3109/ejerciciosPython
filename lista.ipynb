{
  "nbformat": 4,
  "nbformat_minor": 0,
  "metadata": {
    "colab": {
      "provenance": []
    },
    "kernelspec": {
      "name": "python3",
      "display_name": "Python 3"
    },
    "language_info": {
      "name": "python"
    }
  },
  "cells": [
    {
      "cell_type": "code",
      "source": [
        "# INTEGRANTE: Edwin Alexander Ospina Penna\n",
        "# CORREO INSTITUCIONAL: eospinap@estudiante.ibero.edu.co\n",
        "# IDBANNER: 100136699\n",
        "\n",
        "\n",
        "\n",
        "# Declarar una lista vacía\n",
        "numeros = []\n",
        "\n",
        "# Bucle para introducir números en la lista\n",
        "while True:\n",
        "    numero = int(input(\"Introduce un número (introduce un número negativo para terminar): \"))\n",
        "\n",
        "    if numero < 0:\n",
        "        break  # Finaliza el bucle si se introduce un número negativo\n",
        "\n",
        "    numeros.append(numero)  # Añadir el número a la lista\n",
        "\n",
        "# Imprimir la lista con los números introducidos\n",
        "print(\"Los números introducidos son:\", numeros)\n"
      ],
      "metadata": {
        "colab": {
          "base_uri": "https://localhost:8080/"
        },
        "id": "0PmMEX9P1ae8",
        "outputId": "66dbfc61-78d4-42a4-dff2-c7998b232624"
      },
      "execution_count": null,
      "outputs": [
        {
          "output_type": "stream",
          "name": "stdout",
          "text": [
            "Introduce un número (introduce un número negativo para terminar): 1\n",
            "Introduce un número (introduce un número negativo para terminar): 3\n",
            "Introduce un número (introduce un número negativo para terminar): 5\n",
            "Introduce un número (introduce un número negativo para terminar): 7\n",
            "Introduce un número (introduce un número negativo para terminar): -9\n",
            "Los números introducidos son: [1, 3, 5, 7]\n"
          ]
        }
      ]
    }
  ]
}