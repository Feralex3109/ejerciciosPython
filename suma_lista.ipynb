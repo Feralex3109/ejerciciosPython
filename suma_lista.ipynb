{
  "nbformat": 4,
  "nbformat_minor": 0,
  "metadata": {
    "colab": {
      "provenance": []
    },
    "kernelspec": {
      "name": "python3",
      "display_name": "Python 3"
    },
    "language_info": {
      "name": "python"
    }
  },
  "cells": [
    {
      "cell_type": "code",
      "source": [
        "# INTEGRANTE: Edwin Alexander Ospina Penna\n",
        "# CORREO INSTITUCIONAL: eospinap@estudiante.ibero.edu.co\n",
        "# IDBANNER: 100136699\n",
        "\n",
        "\n",
        "\n",
        "# Declarar tres listas vacías\n",
        "lista1 = []\n",
        "lista2 = []\n",
        "lista3 = []\n",
        "\n",
        "# Solicitar valores para 'lista1'\n",
        "print(\"Introduce 5 valores para la Lista No.1:\")\n",
        "for i in range(5):\n",
        "    valor = int(input(f\"Valor {i+1}: \"))\n",
        "    lista1.append(valor)\n",
        "\n",
        "# Solicitar valores para 'lista2'\n",
        "print(\"Introduce 5 valores para la Lista No.2:\")\n",
        "for i in range(5):\n",
        "    valor = int(input(f\"Valor {i+1}: \"))\n",
        "    lista2.append(valor)\n",
        "\n",
        "# Calcular lista3 como la suma de lista1 y lista2\n",
        "for i in range(5):\n",
        "    lista3.append(lista1[i] + lista2[i])\n",
        "\n",
        "# Imprimir el resultado de lista3\n",
        "print(\"La Lista No.3 (suma de Lista No.1 y Lista No.2) es:\", lista3)\n",
        "\n"
      ],
      "metadata": {
        "colab": {
          "base_uri": "https://localhost:8080/"
        },
        "id": "0PmMEX9P1ae8",
        "outputId": "4253bd46-20d1-4ad4-9681-643850434a6c"
      },
      "execution_count": null,
      "outputs": [
        {
          "output_type": "stream",
          "name": "stdout",
          "text": [
            "Introduce 5 valores para la Lista No.1:\n",
            "Valor 1: 5\n",
            "Valor 2: 7\n",
            "Valor 3: 3\n",
            "Valor 4: 9\n",
            "Valor 5: 1\n",
            "Introduce 5 valores para la Lista No.2:\n",
            "Valor 1: 8\n",
            "Valor 2: 2\n",
            "Valor 3: 0\n",
            "Valor 4: 6\n",
            "Valor 5: 4\n",
            "La Lista No.3 (suma de Lista No.1 y Lista No.2) es: [13, 9, 3, 15, 5]\n"
          ]
        }
      ]
    }
  ]
}