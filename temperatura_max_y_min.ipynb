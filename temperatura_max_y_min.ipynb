{
  "nbformat": 4,
  "nbformat_minor": 0,
  "metadata": {
    "colab": {
      "provenance": []
    },
    "kernelspec": {
      "name": "python3",
      "display_name": "Python 3"
    },
    "language_info": {
      "name": "python"
    }
  },
  "cells": [
    {
      "cell_type": "code",
      "source": [
        "# INTEGRANTE: Edwin Alexander Ospina Penna\n",
        "# CORREO INSTITUCIONAL: eospinap@estudiante.ibero.edu.co\n",
        "# IDBANNER: 100136699\n",
        "\n",
        "\n",
        "\n",
        "# Declarar listas para almacenar las temperaturas mínimas y máximas\n",
        "temperaturas_min = []\n",
        "temperaturas_max = []\n",
        "\n",
        "# Recoger información de los últimos 5 días\n",
        "for i in range(5):\n",
        "    print(f\"Introduce las temperaturas para el día {i + 1}:\")\n",
        "    min_temp = float(input(\"Temperatura mínima: \"))\n",
        "    max_temp = float(input(\"Temperatura máxima: \"))\n",
        "\n",
        "    temperaturas_min.append(min_temp)\n",
        "    temperaturas_max.append(max_temp)\n",
        "\n",
        "# Calcular y mostrar la temperatura media de cada día\n",
        "print(\"\\nTemperatura media de cada día:\")\n",
        "for i in range(5):\n",
        "    media_temp = (temperaturas_min[i] + temperaturas_max[i]) / 2\n",
        "    print(f\"Día {i + 1}: {media_temp:.2f}°C\")\n",
        "\n",
        "# Encontrar el menor día de temperatura\n",
        "min_temp_value = min(temperaturas_min)\n",
        "print(\"\\nDías con menor temperatura mínima:\")\n",
        "for i in range(5):\n",
        "    if temperaturas_min[i] == min_temp_value:\n",
        "        print(f\"Día {i + 1}: {temperaturas_min[i]:.2f}°C\")\n",
        "\n",
        "# Recoger una temperatura más y mostrar días con temperatura máxima coincidente\n",
        "temp_buscada = float(input(\"\\nIntroduce una temperatura máxima a buscar: \"))\n",
        "días_con_temp_max = [i + 1 for i in range(5) if temperaturas_max[i] == temp_buscada]\n",
        "\n",
        "if días_con_temp_max:\n",
        "    print(f\"Días con temperatura máxima de {temp_buscada}°C: {', '.join(map(str, días_con_temp_max))}\")\n",
        "else:\n",
        "    print(f\"No existe ningún día con una temperatura máxima de {temp_buscada}°C.\")\n",
        "\n"
      ],
      "metadata": {
        "colab": {
          "base_uri": "https://localhost:8080/"
        },
        "id": "0PmMEX9P1ae8",
        "outputId": "03581021-0bcd-42e3-90ba-c70cf0fc7de0"
      },
      "execution_count": null,
      "outputs": [
        {
          "output_type": "stream",
          "name": "stdout",
          "text": [
            "Introduce las temperaturas para el día 1:\n",
            "Temperatura mínima: 35\n",
            "Temperatura máxima: 40\n",
            "Introduce las temperaturas para el día 2:\n",
            "Temperatura mínima: 30\n",
            "Temperatura máxima: 35\n",
            "Introduce las temperaturas para el día 3:\n",
            "Temperatura mínima: 40\n",
            "Temperatura máxima: 5\n",
            "Introduce las temperaturas para el día 4:\n",
            "Temperatura mínima: 25\n",
            "Temperatura máxima: 30\n",
            "Introduce las temperaturas para el día 5:\n",
            "Temperatura mínima: 30\n",
            "Temperatura máxima: 40\n",
            "\n",
            "Temperatura media de cada día:\n",
            "Día 1: 37.50°C\n",
            "Día 2: 32.50°C\n",
            "Día 3: 22.50°C\n",
            "Día 4: 27.50°C\n",
            "Día 5: 35.00°C\n",
            "\n",
            "Días con menor temperatura mínima:\n",
            "Día 4: 25.00°C\n",
            "\n",
            "Introduce una temperatura máxima a buscar: 40\n",
            "Días con temperatura máxima de 40.0°C: 1, 5\n"
          ]
        }
      ]
    }
  ]
}